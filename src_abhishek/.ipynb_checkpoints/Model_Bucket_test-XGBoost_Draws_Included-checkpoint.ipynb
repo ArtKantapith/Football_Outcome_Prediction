{
 "cells": [
  {
   "cell_type": "code",
   "execution_count": 3,
   "metadata": {
    "collapsed": false
   },
   "outputs": [],
   "source": [
    "import numpy as np\n",
    "from tempfile import TemporaryFile\n",
    "import pandas as pd\n",
    "from sklearn.linear_model import LogisticRegression\n",
    "from sklearn.model_selection import train_test_split\n",
    "from sklearn.model_selection import cross_val_score\n",
    "from sklearn.model_selection import KFold\n",
    "from sklearn.preprocessing import StandardScaler\n",
    "from sklearn.svm import SVC\n",
    "from matplotlib import pyplot as plt\n",
    "from numpy import loadtxt\n",
    "from numpy import sort\n",
    "from xgboost import XGBClassifier\n",
    "from sklearn.model_selection import train_test_split\n",
    "from sklearn.metrics import accuracy_score\n",
    "from sklearn.feature_selection import SelectFromModel\n",
    "\n",
    "%matplotlib inline"
   ]
  },
  {
   "cell_type": "code",
   "execution_count": 4,
   "metadata": {
    "collapsed": false
   },
   "outputs": [
    {
     "name": "stdout",
     "output_type": "stream",
     "text": [
      "1080\n",
      "(15965L, 865L)\n",
      "(12772L, 864L)\n",
      "(0L, 864L)\n",
      "(3193L, 864L)\n"
     ]
    }
   ],
   "source": [
    "import numpy as np\n",
    "from tempfile import TemporaryFile\n",
    "import pandas as pd\n",
    "import sklearn.linear_model\n",
    "\n",
    "features = 'potential,attacking_work_rate,defensive_work_rate,crossing,finishing,heading_accuracy,short_passing,volleys,dribbling,curve,free_kick_accuracy,long_passing,ball_control,acceleration,sprint_speed,agility,reactions,balance,shot_power,jumping,stamina,strength,long_shots,aggression,interceptions,positioning,vision,penalties,marking,standing_tackle,sliding_tackle,gk_diving,gk_handling,gk_kicking,gk_positioning,gk_reflexes'\n",
    "features_list = features.split(',')\n",
    "num_features = len(features_list)\n",
    "features_list = features_list * 30\n",
    "\n",
    "print(len(features_list))\n",
    "k=0\n",
    "for bucket_id in range(30):\n",
    "    idx = bucket_id  * num_features\n",
    "    for feature in features_list[ bucket_id  * num_features :  (bucket_id + 1 ) * num_features]:\n",
    "\n",
    "        features_list[idx] = str(bucket_id) + \"_\" + features_list[idx]\n",
    "        idx += 1\n",
    "\n",
    "\n",
    "\n",
    "def train_validate_test_split(df, train_percent=.8, validate_percent=0, seed=100):\n",
    "    np.random.seed(seed)\n",
    "    perm = np.random.permutation(df.index)\n",
    "    m = len(df)\n",
    "    train_end = int(train_percent * m)\n",
    "    validate_end = int(validate_percent * m) + train_end\n",
    "    train = df.ix[perm[:train_end]]\n",
    "    validate = df.ix[perm[train_end:validate_end]]\n",
    "    test = df.ix[perm[validate_end:]]\n",
    "    return train, validate, test\n",
    "\n",
    "\n",
    "outfile = 'alldata_buckets_3x3.npz'\n",
    "npzfile = np.load(outfile)\n",
    "\n",
    "all_data = npzfile['arr_0']\n",
    "print(all_data.shape)\n",
    "\n",
    "train_data, validate_data, test_data = train_validate_test_split(pd.DataFrame(all_data))\n",
    "\n",
    "train_data = np.array(train_data)\n",
    "validate_data = np.array(validate_data)\n",
    "test_data = np.array(test_data)\n",
    "\n",
    "\n",
    "train_X = train_data[:, :-1]\n",
    "validate_X = validate_data[:, :-1]\n",
    "test_X = test_data[:, :-1]\n",
    "train_Y = train_data[:,-1]\n",
    "validate_Y = validate_data[:,-1]\n",
    "test_Y = test_data[:,-1]\n",
    "print(train_X.shape)\n",
    "print(validate_X.shape)\n",
    "print(test_X.shape)\n",
    "\n",
    "sc = StandardScaler()\n",
    "train_X = sc.fit_transform(train_X)\n",
    "test_X = sc.transform(test_X)\n",
    "epsilon = 1e-12\n",
    "mean_train = np.mean(train_X, axis = 0)\n",
    "std_train = np.std(train_X, axis = 0) + epsilon\n",
    "\n",
    "test_X = (test_X - mean_train)/std_train"
   ]
  },
  {
   "cell_type": "code",
   "execution_count": 5,
   "metadata": {
    "collapsed": false
   },
   "outputs": [
    {
     "data": {
      "text/plain": [
       "XGBClassifier(base_score=0.5, colsample_bylevel=1, colsample_bytree=1,\n",
       "       gamma=0, learning_rate=0.1, max_delta_step=0, max_depth=3,\n",
       "       min_child_weight=1, missing=None, n_estimators=100, nthread=-1,\n",
       "       objective='binary:logistic', reg_alpha=0, reg_lambda=1,\n",
       "       scale_pos_weight=1, seed=0, silent=True, subsample=1)"
      ]
     },
     "execution_count": 5,
     "metadata": {},
     "output_type": "execute_result"
    }
   ],
   "source": [
    "model = XGBClassifier()\n",
    "model.fit(train_X, train_Y)\n"
   ]
  },
  {
   "cell_type": "code",
   "execution_count": 6,
   "metadata": {
    "collapsed": false
   },
   "outputs": [
    {
     "data": {
      "image/png": "[encoded data removed]",
      "text/plain": [
       "<matplotlib.figure.Figure at 0x4509898>"
      ]
     },
     "metadata": {},
     "output_type": "display_data"
    },
    {
     "name": "stdout",
     "output_type": "stream",
     "text": [
      "[ 0.01154401  0.          0.          0.          0.          0.          0.\n",
      "  0.          0.001443    0.          0.          0.001443    0.002886    0.\n",
      "  0.001443    0.          0.001443    0.          0.          0.001443    0.\n",
      "  0.          0.001443    0.          0.001443    0.001443    0.          0.\n",
      "  0.          0.          0.          0.00577201  0.004329    0.01154401\n",
      "  0.00721501  0.002886    0.          0.          0.          0.          0.\n",
      "  0.          0.          0.          0.          0.          0.          0.\n",
      "  0.          0.          0.          0.          0.          0.          0.\n",
      "  0.          0.          0.          0.          0.          0.          0.\n",
      "  0.          0.          0.          0.          0.          0.          0.\n",
      "  0.          0.          0.          0.          0.          0.          0.\n",
      "  0.          0.          0.          0.          0.          0.          0.\n",
      "  0.          0.          0.          0.          0.          0.          0.\n",
      "  0.          0.          0.          0.          0.          0.          0.\n",
      "  0.          0.          0.          0.          0.          0.          0.\n",
      "  0.          0.          0.          0.          0.002886    0.          0.\n",
      "  0.          0.          0.001443    0.00577201  0.          0.00721501\n",
      "  0.001443    0.          0.          0.001443    0.          0.001443\n",
      "  0.002886    0.004329    0.001443    0.          0.001443    0.          0.\n",
      "  0.004329    0.001443    0.          0.001443    0.001443    0.001443\n",
      "  0.002886    0.01010101  0.002886    0.001443    0.          0.          0.\n",
      "  0.          0.001443    0.          0.          0.          0.          0.002886\n",
      "  0.002886    0.          0.002886    0.          0.          0.00577201\n",
      "  0.          0.          0.          0.          0.004329    0.001443    0.\n",
      "  0.          0.          0.          0.002886    0.          0.00721501\n",
      "  0.          0.          0.002886    0.01010101  0.001443    0.001443\n",
      "  0.001443    0.          0.          0.          0.          0.001443    0.\n",
      "  0.          0.          0.001443    0.00577201  0.01298701  0.          0.\n",
      "  0.001443    0.001443    0.          0.          0.          0.          0.\n",
      "  0.002886    0.002886    0.001443    0.          0.001443    0.          0.001443\n",
      "  0.002886    0.00865801  0.001443    0.001443    0.          0.01010101\n",
      "  0.00721501  0.001443    0.          0.          0.          0.002886\n",
      "  0.002886    0.          0.          0.          0.          0.          0.\n",
      "  0.00577201  0.001443    0.          0.          0.          0.          0.\n",
      "  0.          0.          0.          0.004329    0.001443    0.          0.\n",
      "  0.          0.          0.          0.001443    0.001443    0.00721501\n",
      "  0.          0.          0.          0.          0.          0.001443    0.\n",
      "  0.          0.          0.          0.00577201  0.          0.          0.\n",
      "  0.002886    0.          0.00721501  0.          0.          0.002886    0.\n",
      "  0.00721501  0.002886    0.          0.          0.          0.00721501\n",
      "  0.001443    0.004329    0.          0.001443    0.          0.          0.\n",
      "  0.001443    0.00721501  0.00721501  0.004329    0.          0.          0.\n",
      "  0.001443    0.001443    0.00577201  0.001443    0.002886    0.00577201\n",
      "  0.          0.          0.001443    0.          0.          0.01875902\n",
      "  0.          0.          0.          0.001443    0.002886    0.00721501\n",
      "  0.001443    0.001443    0.          0.002886    0.          0.001443\n",
      "  0.001443    0.          0.          0.          0.          0.          0.001443\n",
      "  0.002886    0.00865801  0.          0.          0.          0.          0.\n",
      "  0.          0.          0.          0.          0.          0.          0.001443\n",
      "  0.          0.          0.          0.          0.          0.          0.\n",
      "  0.          0.          0.          0.          0.001443    0.002886    0.\n",
      "  0.001443    0.          0.          0.          0.          0.          0.\n",
      "  0.          0.          0.          0.          0.          0.          0.\n",
      "  0.          0.          0.          0.          0.00577201  0.          0.\n",
      "  0.          0.002886    0.001443    0.002886    0.01010101  0.001443    0.\n",
      "  0.          0.001443    0.001443    0.          0.          0.001443    0.\n",
      "  0.          0.002886    0.002886    0.          0.          0.001443    0.\n",
      "  0.          0.002886    0.00721501  0.          0.          0.          0.\n",
      "  0.004329    0.002886    0.          0.          0.          0.001443    0.\n",
      "  0.          0.          0.002886    0.          0.001443    0.00721501\n",
      "  0.          0.          0.          0.          0.001443    0.          0.\n",
      "  0.002886    0.001443    0.          0.001443    0.002886    0.          0.\n",
      "  0.          0.          0.          0.004329    0.01298701  0.001443    0.\n",
      "  0.          0.          0.          0.          0.          0.          0.\n",
      "  0.002886    0.          0.          0.          0.          0.          0.\n",
      "  0.001443    0.          0.          0.          0.          0.          0.\n",
      "  0.          0.          0.004329    0.          0.001443    0.          0.\n",
      "  0.002886    0.          0.          0.001443    0.          0.          0.001443\n",
      "  0.          0.          0.          0.00577201  0.00577201  0.001443\n",
      "  0.01587302  0.          0.          0.          0.          0.          0.\n",
      "  0.          0.          0.          0.          0.          0.          0.\n",
      "  0.          0.          0.          0.          0.          0.          0.\n",
      "  0.          0.          0.          0.          0.          0.          0.\n",
      "  0.          0.          0.          0.          0.          0.          0.\n",
      "  0.          0.          0.          0.          0.          0.          0.\n",
      "  0.          0.          0.          0.          0.          0.          0.\n",
      "  0.          0.          0.          0.          0.          0.          0.\n",
      "  0.          0.          0.          0.          0.          0.          0.\n",
      "  0.          0.          0.          0.          0.          0.          0.\n",
      "  0.          0.          0.          0.          0.00865801  0.          0.\n",
      "  0.00721501  0.          0.004329    0.004329    0.          0.          0.002886\n",
      "  0.          0.001443    0.          0.          0.          0.001443\n",
      "  0.002886    0.          0.          0.          0.          0.002886    0.\n",
      "  0.          0.001443    0.001443    0.001443    0.004329    0.00721501\n",
      "  0.          0.          0.          0.          0.001443    0.          0.002886\n",
      "  0.01443001  0.          0.          0.          0.001443    0.00577201\n",
      "  0.001443    0.          0.          0.002886    0.          0.001443\n",
      "  0.004329    0.001443    0.          0.002886    0.004329    0.          0.\n",
      "  0.          0.004329    0.          0.          0.          0.00865801\n",
      "  0.001443    0.          0.001443    0.004329    0.004329    0.00865801\n",
      "  0.          0.001443    0.002886    0.          0.          0.01010101\n",
      "  0.          0.          0.002886    0.          0.004329    0.00577201\n",
      "  0.001443    0.002886    0.          0.001443    0.001443    0.          0.001443\n",
      "  0.          0.001443    0.004329    0.          0.001443    0.          0.\n",
      "  0.          0.001443    0.002886    0.00865801  0.001443    0.          0.\n",
      "  0.00721501  0.00721501  0.          0.          0.001443    0.001443\n",
      "  0.001443    0.001443    0.004329    0.          0.          0.002886    0.\n",
      "  0.002886    0.002886    0.          0.004329    0.001443    0.002886\n",
      "  0.001443    0.          0.          0.          0.004329    0.001443    0.\n",
      "  0.00577201  0.          0.          0.          0.          0.          0.\n",
      "  0.          0.          0.001443    0.          0.001443    0.001443    0.\n",
      "  0.          0.          0.          0.          0.00721501  0.          0.\n",
      "  0.          0.001443    0.          0.          0.004329    0.002886    0.\n",
      "  0.          0.001443    0.002886    0.          0.001443    0.\n",
      "  0.01010101  0.          0.00577201  0.          0.          0.001443    0.\n",
      "  0.          0.          0.002886    0.001443    0.001443    0.001443    0.\n",
      "  0.          0.001443    0.          0.          0.001443    0.          0.004329\n",
      "  0.          0.          0.002886    0.00721501  0.          0.002886\n",
      "  0.001443    0.001443    0.          0.          0.001443    0.00865801\n",
      "  0.          0.001443    0.001443    0.004329    0.          0.001443    0.\n",
      "  0.001443    0.          0.          0.001443    0.          0.001443\n",
      "  0.01010101  0.          0.          0.002886    0.001443    0.          0.\n",
      "  0.          0.001443    0.          0.          0.          0.          0.\n",
      "  0.          0.          0.          0.          0.          0.          0.\n",
      "  0.          0.          0.          0.          0.          0.          0.\n",
      "  0.          0.          0.          0.          0.          0.          0.\n",
      "  0.          0.          0.          0.          0.001443    0.          0.\n",
      "  0.          0.          0.          0.          0.01298701  0.          0.\n",
      "  0.001443    0.00721501  0.001443    0.00865801  0.          0.004329    0.\n",
      "  0.          0.          0.004329    0.          0.          0.          0.001443\n",
      "  0.          0.00577201  0.001443    0.004329    0.001443    0.00577201\n",
      "  0.          0.          0.          0.004329    0.          0.          0.\n",
      "  0.          0.          0.          0.          0.          0.\n",
      "  0.01010101  0.          0.          0.002886    0.          0.          0.004329\n",
      "  0.          0.001443    0.          0.001443    0.          0.001443    0.\n",
      "  0.001443    0.          0.004329    0.          0.          0.          0.001443\n",
      "  0.          0.          0.          0.          0.001443    0.          0.\n",
      "  0.          0.          0.001443    0.          0.          0.          0.\n",
      "  0.        ]\n",
      "Accuracy: 71.91%\n"
     ]
    }
   ],
   "source": [
    "plt.bar(range(len(model.feature_importances_)), model.feature_importances_)\n",
    "plt.show()\n",
    "print(model.feature_importances_)\n",
    "# make predictions for test data and evaluate\n",
    "y_pred = model.predict(test_X)\n",
    "predictions = [round(value) for value in y_pred]\n",
    "accuracy = accuracy_score(test_Y, predictions)\n",
    "print(\"Accuracy: %.2f%%\" % (accuracy * 100.0))\n",
    "# Fit model using each importance as a threshold\n",
    "thresholds = sort(model.feature_importances_)\n",
    "\n"
   ]
  },
  {
   "cell_type": "code",
   "execution_count": null,
   "metadata": {
    "collapsed": false
   },
   "outputs": [
    {
     "data": {
      "text/plain": [
       "(12772L, 864L)"
      ]
     },
     "execution_count": 7,
     "metadata": {},
     "output_type": "execute_result"
    }
   ],
   "source": [
    "train_X.shape"
   ]
  },
  {
   "cell_type": "code",
   "execution_count": null,
   "metadata": {
    "collapsed": false
   },
   "outputs": [
    {
     "name": "stdout",
     "output_type": "stream",
     "text": [
      "Thresh=0.000, n=864, Accuracy: 71.91%\n",
      "Thresh=0.000, n=864, Accuracy: 71.91%\n",
      "Thresh=0.000, n=864, Accuracy: 71.91%\n",
      "Thresh=0.000, n=864, Accuracy: 71.91%\n",
      "Thresh=0.000, n=864, Accuracy: 71.91%\n",
      "Thresh=0.000, n=864, Accuracy: 71.91%\n",
      "Thresh=0.000, n=864, Accuracy: 71.91%\n",
      "Thresh=0.000, n=864, Accuracy: 71.91%\n",
      "Thresh=0.000, n=864, Accuracy: 71.91%\n",
      "Thresh=0.000, n=864, Accuracy: 71.91%\n",
      "Thresh=0.000, n=864, Accuracy: 71.91%\n",
      "Thresh=0.000, n=864, Accuracy: 71.91%\n"
     ]
    }
   ],
   "source": [
    "for thresh in thresholds:\n",
    "\t# select features using threshold\n",
    "\tselection = SelectFromModel(model, threshold=thresh, prefit=True)\n",
    "\tselect_X_train = selection.transform(train_X)\n",
    "\t# train model\n",
    "\tselection_model = XGBClassifier()\n",
    "\tselection_model.fit(select_X_train, train_Y)\n",
    "\t# eval model\n",
    "\tselect_X_test = selection.transform(test_X)\n",
    "\ty_pred = selection_model.predict(select_X_test)\n",
    "\tpredictions = [round(value) for value in y_pred]\n",
    "\taccuracy = accuracy_score(test_Y, predictions)\n",
    "\tprint(\"Thresh=%.3f, n=%d, Accuracy: %.2f%%\" % (thresh, select_X_train.shape[1], accuracy*100.0))"
   ]
  },
  {
   "cell_type": "code",
   "execution_count": null,
   "metadata": {
    "collapsed": false
   },
   "outputs": [],
   "source": [
    "import sklearn.metrics\n",
    "print(sklearn.metrics.accuracy_score(test_Y, predictions))"
   ]
  },
  {
   "cell_type": "code",
   "execution_count": null,
   "metadata": {
    "collapsed": false
   },
   "outputs": [],
   "source": [
    "\n",
    "\n",
    "print(sklearn.metrics.classification_report(test_Y, predictions))"
   ]
  },
  {
   "cell_type": "code",
   "execution_count": null,
   "metadata": {
    "collapsed": false
   },
   "outputs": [],
   "source": [
    "sklearn.metrics.roc_auc_score(test_Y, predictions)"
   ]
  },
  {
   "cell_type": "code",
   "execution_count": null,
   "metadata": {
    "collapsed": false
   },
   "outputs": [],
   "source": [
    "from sklearn.metrics import zero_one_loss\n",
    "zero_one_loss(test_Y, predictions)"
   ]
  },
  {
   "cell_type": "code",
   "execution_count": null,
   "metadata": {
    "collapsed": false
   },
   "outputs": [],
   "source": [
    "from sklearn.metrics import roc_curve\n",
    "\n",
    "fpr,tpr,thresh = roc_curve(test_Y, y_pred)\n",
    "plt.plot(fpr,tpr,[0,1],[0,1],\"--\")\n",
    "plt.show"
   ]
  },
  {
   "cell_type": "code",
   "execution_count": null,
   "metadata": {
    "collapsed": false
   },
   "outputs": [],
   "source": [
    "from sklearn import datasets\n",
    "from sklearn.feature_selection import RFE\n",
    "from sklearn.linear_model import LogisticRegression\n",
    "# load the iris datasets\n",
    "# create a base classifier used to evaluate a subset of attributes\n",
    "model = LogisticRegression()\n",
    "# create the RFE model and select 3 attributes\n",
    "rfe = RFE(model, 20)\n",
    "rfe = rfe.fit(train_X, train_Y)\n",
    "# summarize the selection of the attributes\n",
    "print(rfe.support_)\n",
    "print(rfe.ranking_)"
   ]
  }
 ],
 "metadata": {
  "anaconda-cloud": {},
  "kernelspec": {
   "display_name": "Python [Root]",
   "language": "python",
   "name": "Python [Root]"
  },
  "language_info": {
   "codemirror_mode": {
    "name": "ipython",
    "version": 2
   },
   "file_extension": ".py",
   "mimetype": "text/x-python",
   "name": "python",
   "nbconvert_exporter": "python",
   "pygments_lexer": "ipython2",
   "version": "2.7.12"
  }
 },
 "nbformat": 4,
 "nbformat_minor": 0
}
