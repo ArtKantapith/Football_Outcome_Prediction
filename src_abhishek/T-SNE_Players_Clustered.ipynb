{
 "cells": [
  {
   "cell_type": "code",
   "execution_count": 1,
   "metadata": {
    "collapsed": false
   },
   "outputs": [],
   "source": [
    "from main_buckets import analyze_player\n",
    "import pandas\n",
    "import matplotlib.pyplot as plt\n",
    "#%matplotlib inline"
   ]
  },
  {
   "cell_type": "code",
   "execution_count": null,
   "metadata": {
    "collapsed": false
   },
   "outputs": [],
   "source": [
    "player_attributes = pandas.read_csv(\"..\\data\\Player_Attributes.csv\")\n",
    "playerid = player_attributes[\"player_api_id\"].values.astype(int)"
   ]
  },
  {
   "cell_type": "code",
   "execution_count": null,
   "metadata": {
    "collapsed": false
   },
   "outputs": [],
   "source": [
    "messi_idx = playerid==30981\n",
    "ronaldo_idx = playerid==30893\n",
    "buffon_idx = playerid == 30717\n",
    "cassilas_idx = playerid == 30657"
   ]
  },
  {
   "cell_type": "code",
   "execution_count": null,
   "metadata": {
    "collapsed": true
   },
   "outputs": [],
   "source": [
    "player_attributes_dict = []\n",
    "for id in playerid:\n",
    "    player_attributes_dict.append(analyze_player(id))"
   ]
  },
  {
   "cell_type": "code",
   "execution_count": null,
   "metadata": {
    "collapsed": false
   },
   "outputs": [],
   "source": [
    "len(player_attributes_dict)"
   ]
  },
  {
   "cell_type": "code",
   "execution_count": null,
   "metadata": {
    "collapsed": false
   },
   "outputs": [],
   "source": [
    "import numpy as np\n",
    "from sklearn.manifold import TSNE\n",
    "from sklearn.preprocessing import RobustScaler\n",
    "rob = RobustScaler()\n",
    "X = np.array(player_attributes_dict)\n",
    "X = rob.fit_transform(X)\n",
    "model = TSNE(n_components=2, random_state=0)"
   ]
  },
  {
   "cell_type": "code",
   "execution_count": null,
   "metadata": {
    "collapsed": false
   },
   "outputs": [],
   "source": [
    "Y = model.fit_transform(X[:2500,:])"
   ]
  },
  {
   "cell_type": "code",
   "execution_count": null,
   "metadata": {
    "collapsed": false
   },
   "outputs": [],
   "source": [
    "print Y.shape"
   ]
  },
  {
   "cell_type": "code",
   "execution_count": null,
   "metadata": {
    "collapsed": false
   },
   "outputs": [],
   "source": [
    "plt.plot(Y[:,0],Y[:,1],\"o\")\n",
    "plt.show()"
   ]
  },
  {
   "cell_type": "code",
   "execution_count": null,
   "metadata": {
    "collapsed": true
   },
   "outputs": [],
   "source": [
    "from sklearn.cluster import KMeans"
   ]
  },
  {
   "cell_type": "code",
   "execution_count": null,
   "metadata": {
    "collapsed": false
   },
   "outputs": [],
   "source": [
    "clust= KMeans(4)\n",
    "color = clust.fit_predict(Y)"
   ]
  },
  {
   "cell_type": "code",
   "execution_count": null,
   "metadata": {
    "collapsed": false
   },
   "outputs": [],
   "source": [
    "# Y_players = model.fit(X[idx])\n",
    "\n",
    "\n",
    "plt.scatter(Y[:2500,0],Y[:2500,1],c = color[:2500])\n",
    "model.fit(X[messi_idx].reshape(-1, 1))\n",
    "T_messi = X[messi_idx]\n",
    "plt.annotate(\"Messi\", xy=(T_messi[:,0], T_messi[:,1]), xytext=(0, 0), textcoords='offset points')\n",
    "\n",
    "model.fit(X[ronaldo_idx].reshape(-1, 1))\n",
    "T_ronaldo = X[ronaldo_idx]\n",
    "plt.annotate(\"Ronaldo\", xy=(T_ronaldo[:,0], T_ronaldo[:,1]), xytext=(0, 0), textcoords='offset points')\n",
    "\n",
    "model.fit(X[buffon_idx].reshape(-1, 1))\n",
    "T_buffon = X[buffon_idx]\n",
    "plt.annotate(\"Buffon\", xy=(T_buffon[:,0], T_buffon[:,1]), xytext=(0, 0), textcoords='offset points')\n",
    "\n",
    "model.fit(X[cassilas_idx].reshape(-1, 1))\n",
    "T_cassilas = X[cassilas_idx]\n",
    "plt.annotate(\"cassilas\", xy=(T_cassilas[:,0], T_cassilas[:,1]), xytext=(0, 0), textcoords='offset points')"
   ]
  },
  {
   "cell_type": "code",
   "execution_count": null,
   "metadata": {
    "collapsed": true
   },
   "outputs": [],
   "source": []
  }
 ],
 "metadata": {
  "anaconda-cloud": {},
  "kernelspec": {
   "display_name": "Python [Root]",
   "language": "python",
   "name": "Python [Root]"
  },
  "language_info": {
   "codemirror_mode": {
    "name": "ipython",
    "version": 2
   },
   "file_extension": ".py",
   "mimetype": "text/x-python",
   "name": "python",
   "nbconvert_exporter": "python",
   "pygments_lexer": "ipython2",
   "version": "2.7.12"
  }
 },
 "nbformat": 4,
 "nbformat_minor": 0
}
