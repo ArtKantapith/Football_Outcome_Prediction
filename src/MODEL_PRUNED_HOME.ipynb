{
 "cells": [
  {
   "cell_type": "code",
   "execution_count": 30,
   "metadata": {
    "collapsed": true
   },
   "outputs": [],
   "source": [
    "import numpy as np\n",
    "from tempfile import TemporaryFile\n",
    "import pandas as pd\n",
    "from sklearn.linear_model import LogisticRegression\n",
    "from sklearn.model_selection import train_test_split\n",
    "from sklearn.model_selection import cross_val_score\n",
    "from sklearn.model_selection import KFold"
   ]
  },
  {
   "cell_type": "code",
   "execution_count": 128,
   "metadata": {
    "collapsed": true
   },
   "outputs": [],
   "source": [
    "features = 'potential,attacking_work_rate,defensive_work_rate,crossing,finishing,heading_accuracy,short_passing,volleys,dribbling,curve,free_kick_accuracy,long_passing,ball_control,acceleration,sprint_speed,agility,reactions,balance,shot_power,jumping,stamina,strength,long_shots,aggression,interceptions,positioning,vision,penalties,marking,standing_tackle,sliding_tackle,gk_diving,gk_handling,gk_kicking,gk_positioning,gk_reflexes'\n",
    "features_list = features.split(',')\n",
    "features_list = features_list * 4\n",
    "for idx, feature in enumerate(features_list):\n",
    "    if idx/36 == 0:\n",
    "        features_list[idx] = 'goal_keeper_' + features_list[idx]\n",
    "    elif idx/36 == 1:\n",
    "        features_list[idx] = 'defenders_' + features_list[idx]\n",
    "    elif idx/36 == 2:\n",
    "        features_list[idx] = 'midfielders_' + features_list[idx]\n",
    "    else:\n",
    "        features_list[idx] = 'strikers_' + features_list[idx]"
   ]
  },
  {
   "cell_type": "code",
   "execution_count": 119,
   "metadata": {
    "collapsed": false
   },
   "outputs": [],
   "source": [
    "def further_pruning(all_data,features_list):\n",
    "    all_data = np.concatenate([all_data[:,31:67],all_data[:,72:103],all_data[:,108:139],all_data[:,-1].reshape([all_data.shape[0],1])],axis=1)\n",
    "#                                ,all_data[:,175:211],all_data[:,216:247],all_data[:,252:283]\n",
    "    features_list =  features_list[31:67] + features_list[72:103]+features_list[108:139]\n",
    "#     +features_list[175:211]+features_list[216:247]+ features_list[252:283]\n",
    "#     print all_data.shape\n",
    "    return features_list,all_data\n",
    "#     print all_data.shape\n"
   ]
  },
  {
   "cell_type": "code",
   "execution_count": 130,
   "metadata": {
    "collapsed": false
   },
   "outputs": [
    {
     "name": "stdout",
     "output_type": "stream",
     "text": [
      "(15965L, 289L)\n"
     ]
    }
   ],
   "source": [
    "outfile = 'alldata.npz'\n",
    "npzfile = np.load(outfile)\n",
    "all_data = npzfile['arr_0']"
   ]
  },
  {
   "cell_type": "code",
   "execution_count": 131,
   "metadata": {
    "collapsed": false
   },
   "outputs": [
    {
     "name": "stdout",
     "output_type": "stream",
     "text": [
      "144\n"
     ]
    }
   ],
   "source": [
    "print len(features_list)\n",
    "features_list,all_data=further_pruning(all_data,features_list)\n"
   ]
  },
  {
   "cell_type": "code",
   "execution_count": 132,
   "metadata": {
    "collapsed": false
   },
   "outputs": [
    {
     "name": "stdout",
     "output_type": "stream",
     "text": [
      "(15965L, 197L)\n",
      "98\n"
     ]
    }
   ],
   "source": [
    "print all_data.shape\n",
    "print len(features_list)"
   ]
  },
  {
   "cell_type": "code",
   "execution_count": 133,
   "metadata": {
    "collapsed": true
   },
   "outputs": [],
   "source": [
    "train_X,test_X,train_y,test_y = train_test_split(all_data[:,:-1],all_data[:,-1], test_size = 0.2, random_state = 4990)"
   ]
  },
  {
   "cell_type": "code",
   "execution_count": 134,
   "metadata": {
    "collapsed": false
   },
   "outputs": [
    {
     "name": "stdout",
     "output_type": "stream",
     "text": [
      "0.01 0.714530907352 0.672721578453\n",
      "1.12 0.712025402002 0.71030378954\n",
      "2.23 0.711712229157 0.710930159724\n",
      "3.34 0.711399086962 0.71030378954\n",
      "4.45 0.711320778427 0.71030378954\n",
      "5.56 0.711320778427 0.709677419355\n",
      "6.67 0.711242469891 0.709677419355\n",
      "7.78 0.711320747778 0.708737864078\n",
      "8.89 0.711242439242 0.708424678985\n",
      "10.0 0.711242439242 0.708737864078\n"
     ]
    }
   ],
   "source": [
    "C = np.linspace(0.01,10,10)\n",
    "train_X  = (train_X-np.mean(train_X,axis = 0))/np.std(train_X,axis = 0)\n",
    "test_X = (test_X - np.mean(train_X,axis = 0))/np.std(train_X,axis=0)\n",
    "test_scores = np.zeros(10)\n",
    "scores = np.zeros(10)\n",
    "for (i,c) in enumerate(C):\n",
    "    log = LogisticRegression(C = c,penalty='l1')\n",
    "    cross = cross_val_score(log,train_X,train_y,cv = 5)\n",
    "    scores[i] = np.mean(cross)\n",
    "    log2 = LogisticRegression(C = c,penalty = \"l1\")\n",
    "    log2.fit(train_X,train_y)\n",
    "    test_scores[i] = log2.score(test_X,test_y)\n",
    "    print c, scores[i],test_scores[i]"
   ]
  },
  {
   "cell_type": "code",
   "execution_count": null,
   "metadata": {
    "collapsed": true
   },
   "outputs": [],
   "source": []
  },
  {
   "cell_type": "code",
   "execution_count": 89,
   "metadata": {
    "collapsed": false
   },
   "outputs": [
    {
     "data": {
      "text/plain": [
       "LogisticRegression(C=5.0, class_weight=None, dual=False, fit_intercept=True,\n",
       "          intercept_scaling=1, max_iter=100, multi_class='ovr', n_jobs=1,\n",
       "          penalty='l1', random_state=None, solver='liblinear', tol=0.0001,\n",
       "          verbose=0, warm_start=False)"
      ]
     },
     "execution_count": 89,
     "metadata": {},
     "output_type": "execute_result"
    }
   ],
   "source": [
    "bestc = C[np.argmax(scores)]\n",
    "log = LogisticRegression(C = bestc,penalty = \"l1\")\n",
    "log.fit(train_X,train_y)"
   ]
  },
  {
   "cell_type": "code",
   "execution_count": 114,
   "metadata": {
    "collapsed": false
   },
   "outputs": [
    {
     "data": {
      "text/plain": [
       "0.63639210773567179"
      ]
     },
     "execution_count": 114,
     "metadata": {},
     "output_type": "execute_result"
    }
   ],
   "source": [
    "log.score(test_X,test_y)"
   ]
  },
  {
   "cell_type": "code",
   "execution_count": 113,
   "metadata": {
    "collapsed": false
   },
   "outputs": [
    {
     "name": "stdout",
     "output_type": "stream",
     "text": [
      "(98L,)\n",
      "98\n",
      "defenders_defensive_work_rate 0.280913522197\n",
      "midfielders_defensive_work_rate 0.0714807334351\n",
      "defenders_attacking_work_rate 0.0472774846181\n",
      "strikers_attacking_work_rate 0.0397264579052\n",
      "defenders_interceptions 0.0261350114489\n",
      "midfielders_vision 0.0219913124048\n",
      "strikers_vision 0.01919381832\n",
      "midfielders_positioning 0.0184029771581\n",
      "defenders_dribbling 0.0181031385376\n",
      "defenders_agility 0.0177100811854\n",
      "defenders_heading_accuracy 0.0171163867111\n",
      "midfielders_marking 0.0171160179479\n",
      "defenders_vision 0.016616799632\n",
      "strikers_finishing 0.0152020837192\n",
      "defenders_marking 0.0142633598817\n",
      "goal_keeper_gk_kicking 0.0121940798791\n",
      "midfielders_penalties 0.0114686397322\n",
      "strikers_standing_tackle 0.0109278364699\n",
      "midfielders_interceptions 0.0104718755357\n",
      "midfielders_jumping 0.00925529006378\n",
      "midfielders_volleys 0.00860363859849\n",
      "defenders_standing_tackle 0.00857534141189\n",
      "defenders_long_passing 0.00778329648563\n",
      "defenders_strength 0.00747519409058\n",
      "defenders_long_shots 0.00743950048044\n",
      "strikers_jumping 0.00685810147315\n",
      "midfielders_agility 0.00681187553367\n",
      "strikers_long_shots 0.00657555975485\n",
      "defenders_sprint_speed 0.00521600243548\n",
      "defenders_positioning 0.00487810780416\n",
      "midfielders_dribbling 0.00487071897304\n",
      "goal_keeper_gk_positioning 0.00462861072783\n",
      "strikers_long_passing 0.00460272365526\n",
      "strikers_stamina 0.00456933889926\n",
      "midfielders_sprint_speed 0.00400681420255\n",
      "midfielders_balance 0.00378637393455\n",
      "goal_keeper_gk_handling 0.00298568247984\n",
      "defenders_finishing 0.00257222217146\n",
      "defenders_free_kick_accuracy 0.00231293940571\n",
      "strikers_sliding_tackle 0.00226373706824\n",
      "midfielders_reactions 0.00185677823312\n",
      "strikers_strength 0.00166835262487\n",
      "midfielders_short_passing 0.00166711615322\n",
      "strikers_heading_accuracy 0.00163260403235\n",
      "strikers_curve 0.00160953870875\n",
      "midfielders_shot_power 0.00154104288542\n",
      "strikers_potential 0.00147084029204\n",
      "strikers_free_kick_accuracy 0.0014197774096\n",
      "strikers_agility 0.00140128161608\n",
      "midfielders_standing_tackle 0.00113561631919\n",
      "goal_keeper_gk_reflexes 0.00104777533659\n",
      "strikers_short_passing 0.000755525462974\n",
      "midfielders_curve 0.000531694730277\n",
      "strikers_acceleration 0.000499588089477\n",
      "midfielders_strength 0.000209106121157\n",
      "strikers_sprint_speed -0.000270832674855\n",
      "defenders_shot_power -0.000447927930102\n",
      "defenders_penalties -0.000486560730128\n",
      "strikers_ball_control -0.000704953801852\n",
      "midfielders_free_kick_accuracy -0.000971385103033\n",
      "midfielders_crossing -0.000995581448449\n",
      "midfielders_finishing -0.00163364320602\n",
      "defenders_curve -0.00213577210477\n",
      "midfielders_heading_accuracy -0.00224923009577\n",
      "midfielders_ball_control -0.00227338945466\n",
      "strikers_aggression -0.00260210461667\n",
      "defenders_volleys -0.00268497231086\n",
      "defenders_short_passing -0.00294887369032\n",
      "strikers_positioning -0.00320224333975\n",
      "midfielders_acceleration -0.00333826609523\n",
      "strikers_balance -0.00346575066526\n",
      "strikers_interceptions -0.0035127056353\n",
      "defenders_potential -0.00365654705722\n",
      "defenders_balance -0.00403737737918\n",
      "strikers_crossing -0.00415177945108\n",
      "defenders_crossing -0.004283345177\n",
      "defenders_jumping -0.00436125803551\n",
      "strikers_volleys -0.00474529505413\n",
      "goal_keeper_gk_diving -0.00586344610794\n",
      "midfielders_potential -0.00610563857105\n",
      "midfielders_long_shots -0.00619096781518\n",
      "midfielders_aggression -0.00621256380094\n",
      "strikers_penalties -0.00628156512862\n",
      "defenders_sliding_tackle -0.00653123065165\n",
      "strikers_dribbling -0.00653935296753\n",
      "defenders_ball_control -0.00715281035354\n",
      "midfielders_stamina -0.00783431557309\n",
      "strikers_reactions -0.00813918295246\n",
      "midfielders_long_passing -0.00868910862632\n",
      "defenders_stamina -0.00869449518027\n",
      "defenders_acceleration -0.0106294577749\n",
      "strikers_marking -0.0112317537041\n",
      "defenders_aggression -0.0119286801616\n",
      "midfielders_sliding_tackle -0.0185478932457\n",
      "strikers_shot_power -0.0189195353032\n",
      "defenders_reactions -0.0359192968062\n",
      "strikers_defensive_work_rate -0.0609581015115\n",
      "midfielders_attacking_work_rate -0.0649348477857\n"
     ]
    }
   ],
   "source": [
    "best_features = np.argsort(log.coef_).reshape(98)[::-1].reshape(98)\n",
    "print best_features.shape\n",
    "print len(features_list)\n",
    "for idx in  best_features:\n",
    "    print features_list[idx],log.coef_.reshape(98)[idx]\n"
   ]
  }
 ],
 "metadata": {
  "anaconda-cloud": {},
  "kernelspec": {
   "display_name": "Python [default]",
   "language": "python",
   "name": "python2"
  },
  "language_info": {
   "codemirror_mode": {
    "name": "ipython",
    "version": 2
   },
   "file_extension": ".py",
   "mimetype": "text/x-python",
   "name": "python",
   "nbconvert_exporter": "python",
   "pygments_lexer": "ipython2",
   "version": "2.7.12"
  }
 },
 "nbformat": 4,
 "nbformat_minor": 1
}
