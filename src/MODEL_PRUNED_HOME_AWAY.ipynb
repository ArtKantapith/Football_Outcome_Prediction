{
 "cells": [
  {
   "cell_type": "code",
   "execution_count": 25,
   "metadata": {
    "collapsed": true
   },
   "outputs": [],
   "source": [
    "import numpy as np\n",
    "from tempfile import TemporaryFile\n",
    "import pandas as pd\n",
    "from sklearn.linear_model import LogisticRegression\n",
    "from sklearn.model_selection import train_test_split\n",
    "from sklearn.model_selection import cross_val_score\n",
    "from sklearn.model_selection import KFold\n",
    "import matplotlib.pyplot as plt\n",
    "%matplotlib inline"
   ]
  },
  {
   "cell_type": "code",
   "execution_count": 2,
   "metadata": {
    "collapsed": false
   },
   "outputs": [
    {
     "name": "stdout",
     "output_type": "stream",
     "text": [
      "['goal_keeper_potential', 'goal_keeper_attacking_work_rate', 'goal_keeper_defensive_work_rate', 'goal_keeper_crossing', 'goal_keeper_finishing', 'goal_keeper_heading_accuracy', 'goal_keeper_short_passing', 'goal_keeper_volleys', 'goal_keeper_dribbling', 'goal_keeper_curve', 'goal_keeper_free_kick_accuracy', 'goal_keeper_long_passing', 'goal_keeper_ball_control', 'goal_keeper_acceleration', 'goal_keeper_sprint_speed', 'goal_keeper_agility', 'goal_keeper_reactions', 'goal_keeper_balance', 'goal_keeper_shot_power', 'goal_keeper_jumping', 'goal_keeper_stamina', 'goal_keeper_strength', 'goal_keeper_long_shots', 'goal_keeper_aggression', 'goal_keeper_interceptions', 'goal_keeper_positioning', 'goal_keeper_vision', 'goal_keeper_penalties', 'goal_keeper_marking', 'goal_keeper_standing_tackle', 'goal_keeper_sliding_tackle', 'goal_keeper_gk_diving', 'goal_keeper_gk_handling', 'goal_keeper_gk_kicking', 'goal_keeper_gk_positioning', 'goal_keeper_gk_reflexes', 'defenders_potential', 'defenders_attacking_work_rate', 'defenders_defensive_work_rate', 'defenders_crossing', 'defenders_finishing', 'defenders_heading_accuracy', 'defenders_short_passing', 'defenders_volleys', 'defenders_dribbling', 'defenders_curve', 'defenders_free_kick_accuracy', 'defenders_long_passing', 'defenders_ball_control', 'defenders_acceleration', 'defenders_sprint_speed', 'defenders_agility', 'defenders_reactions', 'defenders_balance', 'defenders_shot_power', 'defenders_jumping', 'defenders_stamina', 'defenders_strength', 'defenders_long_shots', 'defenders_aggression', 'defenders_interceptions', 'defenders_positioning', 'defenders_vision', 'defenders_penalties', 'defenders_marking', 'defenders_standing_tackle', 'defenders_sliding_tackle', 'defenders_gk_diving', 'defenders_gk_handling', 'defenders_gk_kicking', 'defenders_gk_positioning', 'defenders_gk_reflexes', 'midfielders_potential', 'midfielders_attacking_work_rate', 'midfielders_defensive_work_rate', 'midfielders_crossing', 'midfielders_finishing', 'midfielders_heading_accuracy', 'midfielders_short_passing', 'midfielders_volleys', 'midfielders_dribbling', 'midfielders_curve', 'midfielders_free_kick_accuracy', 'midfielders_long_passing', 'midfielders_ball_control', 'midfielders_acceleration', 'midfielders_sprint_speed', 'midfielders_agility', 'midfielders_reactions', 'midfielders_balance', 'midfielders_shot_power', 'midfielders_jumping', 'midfielders_stamina', 'midfielders_strength', 'midfielders_long_shots', 'midfielders_aggression', 'midfielders_interceptions', 'midfielders_positioning', 'midfielders_vision', 'midfielders_penalties', 'midfielders_marking', 'midfielders_standing_tackle', 'midfielders_sliding_tackle', 'midfielders_gk_diving', 'midfielders_gk_handling', 'midfielders_gk_kicking', 'midfielders_gk_positioning', 'midfielders_gk_reflexes', 'strikers_potential', 'strikers_attacking_work_rate', 'strikers_defensive_work_rate', 'strikers_crossing', 'strikers_finishing', 'strikers_heading_accuracy', 'strikers_short_passing', 'strikers_volleys', 'strikers_dribbling', 'strikers_curve', 'strikers_free_kick_accuracy', 'strikers_long_passing', 'strikers_ball_control', 'strikers_acceleration', 'strikers_sprint_speed', 'strikers_agility', 'strikers_reactions', 'strikers_balance', 'strikers_shot_power', 'strikers_jumping', 'strikers_stamina', 'strikers_strength', 'strikers_long_shots', 'strikers_aggression', 'strikers_interceptions', 'strikers_positioning', 'strikers_vision', 'strikers_penalties', 'strikers_marking', 'strikers_standing_tackle', 'strikers_sliding_tackle', 'strikers_gk_diving', 'strikers_gk_handling', 'strikers_gk_kicking', 'strikers_gk_positioning', 'strikers_gk_reflexes', 'away_goal_keeper_potential', 'away_goal_keeper_attacking_work_rate', 'away_goal_keeper_defensive_work_rate', 'away_goal_keeper_crossing', 'away_goal_keeper_finishing', 'away_goal_keeper_heading_accuracy', 'away_goal_keeper_short_passing', 'away_goal_keeper_volleys', 'away_goal_keeper_dribbling', 'away_goal_keeper_curve', 'away_goal_keeper_free_kick_accuracy', 'away_goal_keeper_long_passing', 'away_goal_keeper_ball_control', 'away_goal_keeper_acceleration', 'away_goal_keeper_sprint_speed', 'away_goal_keeper_agility', 'away_goal_keeper_reactions', 'away_goal_keeper_balance', 'away_goal_keeper_shot_power', 'away_goal_keeper_jumping', 'away_goal_keeper_stamina', 'away_goal_keeper_strength', 'away_goal_keeper_long_shots', 'away_goal_keeper_aggression', 'away_goal_keeper_interceptions', 'away_goal_keeper_positioning', 'away_goal_keeper_vision', 'away_goal_keeper_penalties', 'away_goal_keeper_marking', 'away_goal_keeper_standing_tackle', 'away_goal_keeper_sliding_tackle', 'away_goal_keeper_gk_diving', 'away_goal_keeper_gk_handling', 'away_goal_keeper_gk_kicking', 'away_goal_keeper_gk_positioning', 'away_goal_keeper_gk_reflexes', 'away_defenders_potential', 'away_defenders_attacking_work_rate', 'away_defenders_defensive_work_rate', 'away_defenders_crossing', 'away_defenders_finishing', 'away_defenders_heading_accuracy', 'away_defenders_short_passing', 'away_defenders_volleys', 'away_defenders_dribbling', 'away_defenders_curve', 'away_defenders_free_kick_accuracy', 'away_defenders_long_passing', 'away_defenders_ball_control', 'away_defenders_acceleration', 'away_defenders_sprint_speed', 'away_defenders_agility', 'away_defenders_reactions', 'away_defenders_balance', 'away_defenders_shot_power', 'away_defenders_jumping', 'away_defenders_stamina', 'away_defenders_strength', 'away_defenders_long_shots', 'away_defenders_aggression', 'away_defenders_interceptions', 'away_defenders_positioning', 'away_defenders_vision', 'away_defenders_penalties', 'away_defenders_marking', 'away_defenders_standing_tackle', 'away_defenders_sliding_tackle', 'away_defenders_gk_diving', 'away_defenders_gk_handling', 'away_defenders_gk_kicking', 'away_defenders_gk_positioning', 'away_defenders_gk_reflexes', 'away_midfielders_potential', 'away_midfielders_attacking_work_rate', 'away_midfielders_defensive_work_rate', 'away_midfielders_crossing', 'away_midfielders_finishing', 'away_midfielders_heading_accuracy', 'away_midfielders_short_passing', 'away_midfielders_volleys', 'away_midfielders_dribbling', 'away_midfielders_curve', 'away_midfielders_free_kick_accuracy', 'away_midfielders_long_passing', 'away_midfielders_ball_control', 'away_midfielders_acceleration', 'away_midfielders_sprint_speed', 'away_midfielders_agility', 'away_midfielders_reactions', 'away_midfielders_balance', 'away_midfielders_shot_power', 'away_midfielders_jumping', 'away_midfielders_stamina', 'away_midfielders_strength', 'away_midfielders_long_shots', 'away_midfielders_aggression', 'away_midfielders_interceptions', 'away_midfielders_positioning', 'away_midfielders_vision', 'away_midfielders_penalties', 'away_midfielders_marking', 'away_midfielders_standing_tackle', 'away_midfielders_sliding_tackle', 'away_midfielders_gk_diving', 'away_midfielders_gk_handling', 'away_midfielders_gk_kicking', 'away_midfielders_gk_positioning', 'away_midfielders_gk_reflexes', 'away_strikers_potential', 'away_strikers_attacking_work_rate', 'away_strikers_defensive_work_rate', 'away_strikers_crossing', 'away_strikers_finishing', 'away_strikers_heading_accuracy', 'away_strikers_short_passing', 'away_strikers_volleys', 'away_strikers_dribbling', 'away_strikers_curve', 'away_strikers_free_kick_accuracy', 'away_strikers_long_passing', 'away_strikers_ball_control', 'away_strikers_acceleration', 'away_strikers_sprint_speed', 'away_strikers_agility', 'away_strikers_reactions', 'away_strikers_balance', 'away_strikers_shot_power', 'away_strikers_jumping', 'away_strikers_stamina', 'away_strikers_strength', 'away_strikers_long_shots', 'away_strikers_aggression', 'away_strikers_interceptions', 'away_strikers_positioning', 'away_strikers_vision', 'away_strikers_penalties', 'away_strikers_marking', 'away_strikers_standing_tackle', 'away_strikers_sliding_tackle', 'away_strikers_gk_diving', 'away_strikers_gk_handling', 'away_strikers_gk_kicking', 'away_strikers_gk_positioning', 'away_strikers_gk_reflexes']\n"
     ]
    }
   ],
   "source": [
    "features = 'potential,attacking_work_rate,defensive_work_rate,crossing,finishing,heading_accuracy,short_passing,volleys,dribbling,curve,free_kick_accuracy,long_passing,ball_control,acceleration,sprint_speed,agility,reactions,balance,shot_power,jumping,stamina,strength,long_shots,aggression,interceptions,positioning,vision,penalties,marking,standing_tackle,sliding_tackle,gk_diving,gk_handling,gk_kicking,gk_positioning,gk_reflexes'\n",
    "features_list = features.split(',')\n",
    "features_list = features_list * 4\n",
    "for idx, feature in enumerate(features_list):\n",
    "    if idx/36 == 0:\n",
    "        features_list[idx] = 'goal_keeper_' + features_list[idx]\n",
    "    elif idx/36 == 1:\n",
    "        features_list[idx] = 'defenders_' + features_list[idx]\n",
    "    elif idx/36 == 2:\n",
    "        features_list[idx] = 'midfielders_' + features_list[idx]\n",
    "    else:\n",
    "        features_list[idx] = 'strikers_' + features_list[idx]\n",
    "features_list = features_list * 2\n",
    "\n",
    "for idx, feature in enumerate(features_list):\n",
    "    if idx/144 == 1:\n",
    "        features_list[idx] = 'away_' + features_list[idx]\n",
    "print(features_list)"
   ]
  },
  {
   "cell_type": "code",
   "execution_count": 3,
   "metadata": {
    "collapsed": true
   },
   "outputs": [],
   "source": [
    "outfile = 'alldata.npz'\n",
    "npzfile = np.load(outfile)\n",
    "all_data = npzfile['arr_0']"
   ]
  },
  {
   "cell_type": "code",
   "execution_count": 4,
   "metadata": {
    "collapsed": true
   },
   "outputs": [],
   "source": [
    "def further_pruning(all_data,features_list):\n",
    "    all_data = np.concatenate([all_data[:,31:67],all_data[:,72:103],all_data[:,108:139],all_data[:,175:211],all_data[:,216:247],all_data[:,252:283],all_data[:,-1].reshape([all_data.shape[0],1])],axis=1)\n",
    "    features_list =  features_list[31:67] + features_list[72:103]+features_list[108:139]+features_list[175:211]+features_list[216:247]+ features_list[252:283]\n",
    "    return features_list,all_data\n"
   ]
  },
  {
   "cell_type": "code",
   "execution_count": 5,
   "metadata": {
    "collapsed": false
   },
   "outputs": [
    {
     "name": "stdout",
     "output_type": "stream",
     "text": [
      "(15965L, 197L)\n",
      "196\n"
     ]
    }
   ],
   "source": [
    "features_list,all_data=further_pruning(all_data,features_list)\n",
    "print all_data.shape\n",
    "print len(features_list)"
   ]
  },
  {
   "cell_type": "code",
   "execution_count": 6,
   "metadata": {
    "collapsed": true
   },
   "outputs": [],
   "source": [
    "train_X,test_X,train_y,test_y = train_test_split(all_data[:,:-1],all_data[:,-1], test_size = 0.2, random_state = 4990)"
   ]
  },
  {
   "cell_type": "code",
   "execution_count": 35,
   "metadata": {
    "collapsed": false
   },
   "outputs": [
    {
     "name": "stdout",
     "output_type": "stream",
     "text": [
      "0.01 0.714452660115 0.672721578453\n",
      "1.12 0.71186881558 0.71030378954\n",
      "2.23 0.711790568342 0.710616974632\n",
      "3.34 0.711320809076 0.71030378954\n",
      "4.45 0.711320778427 0.71030378954\n",
      "5.56 0.711320778427 0.709364234262\n",
      "6.67 0.711320778427 0.709364234262\n",
      "7.78 0.711320747778 0.708737864078\n",
      "8.89 0.711164161355 0.708424678985\n",
      "10.0 0.711242439242 0.708424678985\n"
     ]
    }
   ],
   "source": [
    "C = np.linspace(0.01,10,10)\n",
    "train_X  = (train_X-np.mean(train_X,axis = 0))/np.std(train_X,axis = 0)\n",
    "test_X = (test_X - np.mean(train_X,axis = 0))/np.std(train_X,axis=0)\n",
    "scores = np.zeros(10)\n",
    "test_scores = np.zeros(10)\n",
    "for (i,c) in enumerate(C):\n",
    "    log = LogisticRegression(C = c,penalty='l1')\n",
    "    cross = cross_val_score(log,train_X,train_y,cv = 5)\n",
    "    scores[i] = np.mean(cross)\n",
    "    log2 = LogisticRegression(C = c,penalty = \"l1\")\n",
    "    log2.fit(train_X,train_y)\n",
    "    test_scores[i] = log2.score(test_X,test_y)\n",
    "    print c, scores[i],test_scores[i]"
   ]
  },
  {
   "cell_type": "code",
   "execution_count": 36,
   "metadata": {
    "collapsed": false
   },
   "outputs": [
    {
     "data": {
      "image/png": "[encoded data removed]",
      "text/plain": [
       "<matplotlib.figure.Figure at 0x141403c8>"
      ]
     },
     "metadata": {},
     "output_type": "display_data"
    }
   ],
   "source": [
    "plt.plot(C,1-scores,C,1-test_scores)\n",
    "plt.show()"
   ]
  },
  {
   "cell_type": "code",
   "execution_count": 18,
   "metadata": {
    "collapsed": false
   },
   "outputs": [
    {
     "data": {
      "text/plain": [
       "LogisticRegression(C=0.01, class_weight=None, dual=False, fit_intercept=True,\n",
       "          intercept_scaling=1, max_iter=100, multi_class='ovr', n_jobs=1,\n",
       "          penalty='l1', random_state=None, solver='liblinear', tol=0.0001,\n",
       "          verbose=0, warm_start=False)"
      ]
     },
     "execution_count": 18,
     "metadata": {},
     "output_type": "execute_result"
    }
   ],
   "source": [
    "bestc = C[np.argmax(scores)]\n",
    "log = LogisticRegression(C = bestc,penalty = \"l1\")\n",
    "log.fit(train_X,train_y)"
   ]
  },
  {
   "cell_type": "code",
   "execution_count": 19,
   "metadata": {
    "collapsed": false
   },
   "outputs": [
    {
     "data": {
      "text/plain": [
       "0.67240839336047609"
      ]
     },
     "execution_count": 19,
     "metadata": {},
     "output_type": "execute_result"
    }
   ],
   "source": [
    "log.score(test_X,test_y)"
   ]
  },
  {
   "cell_type": "code",
   "execution_count": 20,
   "metadata": {
    "collapsed": false
   },
   "outputs": [
    {
     "name": "stdout",
     "output_type": "stream",
     "text": [
      "196\n",
      "defenders_standing_tackle 0.167117980719\n",
      "midfielders_reactions 0.144879805215\n",
      "defenders_interceptions 0.103832140778\n",
      "midfielders_short_passing 0.0789504872339\n",
      "midfielders_ball_control 0.078590139883\n",
      "goal_keeper_gk_kicking 0.076865632028\n",
      "defenders_long_passing 0.0600562054418\n",
      "strikers_positioning 0.0531946806405\n",
      "defenders_marking 0.0498182805028\n",
      "strikers_vision 0.0485765966552\n",
      "midfielders_penalties 0.0470095037179\n",
      "defenders_short_passing 0.0408407426649\n",
      "defenders_sliding_tackle 0.0395993134289\n",
      "midfielders_positioning 0.0381723204447\n",
      "defenders_heading_accuracy 0.0380140567038\n",
      "goal_keeper_gk_positioning 0.0373643526161\n",
      "defenders_finishing 0.0306870876863\n",
      "midfielders_vision 0.0295889573231\n",
      "defenders_vision 0.029432255572\n",
      "goal_keeper_gk_diving 0.0244261107958\n",
      "strikers_jumping 0.024301118942\n",
      "midfielders_curve 0.0226597065809\n",
      "goal_keeper_gk_handling 0.0221384911165\n",
      "midfielders_dribbling 0.0211840117022\n",
      "strikers_ball_control 0.0205564715707\n",
      "defenders_aggression 0.0176196423313\n",
      "strikers_reactions 0.0160398812029\n",
      "midfielders_interceptions 0.0111323111213\n",
      "defenders_strength 0.00884941417774\n",
      "strikers_volleys 0.00855683296495\n",
      "strikers_short_passing 0.00848670291218\n",
      "defenders_long_shots 0.00818932752853\n",
      "midfielders_crossing 0.00512367877966\n",
      "midfielders_marking 0.0\n",
      "strikers_curve 0.0\n",
      "defenders_potential 0.0\n",
      "strikers_dribbling 0.0\n",
      "strikers_heading_accuracy 0.0\n",
      "strikers_finishing 0.0\n",
      "midfielders_standing_tackle 0.0\n",
      "strikers_crossing 0.0\n",
      "midfielders_sliding_tackle 0.0\n",
      "strikers_attacking_work_rate 0.0\n",
      "strikers_potential 0.0\n",
      "strikers_defensive_work_rate 0.0\n",
      "defenders_sprint_speed 0.0\n",
      "strikers_free_kick_accuracy 0.0\n",
      "strikers_long_passing 0.0\n",
      "defenders_attacking_work_rate 0.0\n",
      "strikers_sprint_speed 0.0\n",
      "strikers_agility 0.0\n",
      "strikers_balance 0.0\n",
      "strikers_shot_power 0.0\n",
      "strikers_stamina 0.0\n",
      "strikers_strength 0.0\n",
      "strikers_long_shots 0.0\n",
      "strikers_aggression 0.0\n",
      "strikers_interceptions 0.0\n",
      "goal_keeper_gk_reflexes 0.0\n",
      "strikers_penalties 0.0\n",
      "strikers_marking 0.0\n",
      "strikers_acceleration 0.0\n",
      "midfielders_long_shots 0.0\n",
      "defenders_defensive_work_rate 0.0\n",
      "defenders_ball_control 0.0\n",
      "midfielders_attacking_work_rate 0.0\n",
      "midfielders_potential 0.0\n",
      "defenders_dribbling 0.0\n",
      "defenders_curve 0.0\n",
      "defenders_free_kick_accuracy 0.0\n",
      "defenders_penalties 0.0\n",
      "defenders_positioning 0.0\n",
      "midfielders_finishing 0.0\n",
      "defenders_acceleration 0.0\n",
      "defenders_stamina 0.0\n",
      "defenders_jumping 0.0\n",
      "defenders_shot_power 0.0\n",
      "defenders_balance 0.0\n",
      "defenders_reactions 0.0\n",
      "midfielders_defensive_work_rate 0.0\n",
      "midfielders_heading_accuracy 0.0\n",
      "midfielders_aggression 0.0\n",
      "defenders_crossing 0.0\n",
      "defenders_agility 0.0\n",
      "midfielders_strength 0.0\n",
      "midfielders_stamina 0.0\n",
      "midfielders_jumping 0.0\n",
      "midfielders_shot_power 0.0\n",
      "midfielders_balance 0.0\n",
      "midfielders_agility 0.0\n",
      "defenders_volleys 0.0\n",
      "midfielders_sprint_speed 0.0\n",
      "midfielders_acceleration 0.0\n",
      "away_strikers_standing_tackle 0.0\n",
      "midfielders_long_passing 0.0\n",
      "midfielders_free_kick_accuracy 0.0\n",
      "midfielders_volleys 0.0\n",
      "strikers_standing_tackle 0.0\n",
      "away_strikers_sliding_tackle 0.0\n",
      "strikers_sliding_tackle 0.0\n",
      "away_midfielders_jumping 0.0\n",
      "away_midfielders_balance 0.0\n",
      "away_strikers_acceleration 0.0\n",
      "away_midfielders_agility 0.0\n",
      "away_midfielders_sprint_speed 0.0\n",
      "away_midfielders_acceleration 0.0\n",
      "away_goal_keeper_gk_handling 0.0\n",
      "away_midfielders_long_passing 0.0\n",
      "away_midfielders_free_kick_accuracy 0.0\n",
      "away_midfielders_curve 0.0\n",
      "away_midfielders_dribbling 0.0\n",
      "away_midfielders_volleys 0.0\n",
      "away_strikers_sprint_speed 0.0\n",
      "away_midfielders_heading_accuracy 0.0\n",
      "away_strikers_agility 0.0\n",
      "away_midfielders_crossing 0.0\n",
      "away_midfielders_shot_power 0.0\n",
      "away_midfielders_stamina 0.0\n",
      "away_strikers_curve 0.0\n",
      "away_midfielders_strength 0.0\n",
      "away_strikers_free_kick_accuracy 0.0\n",
      "away_strikers_heading_accuracy 0.0\n",
      "away_strikers_finishing 0.0\n",
      "away_strikers_crossing 0.0\n",
      "away_strikers_defensive_work_rate 0.0\n",
      "away_strikers_attacking_work_rate 0.0\n",
      "away_strikers_long_passing 0.0\n",
      "away_midfielders_sliding_tackle 0.0\n",
      "away_midfielders_standing_tackle 0.0\n",
      "away_midfielders_marking 0.0\n",
      "away_midfielders_penalties 0.0\n",
      "away_strikers_ball_control 0.0\n",
      "away_midfielders_interceptions 0.0\n",
      "away_midfielders_aggression 0.0\n",
      "away_midfielders_long_shots 0.0\n",
      "away_midfielders_defensive_work_rate 0.0\n",
      "away_midfielders_attacking_work_rate 0.0\n",
      "away_strikers_balance 0.0\n",
      "away_defenders_finishing 0.0\n",
      "away_defenders_free_kick_accuracy 0.0\n",
      "away_defenders_curve 0.0\n",
      "away_defenders_dribbling 0.0\n",
      "away_defenders_volleys 0.0\n",
      "away_defenders_short_passing 0.0\n",
      "away_strikers_penalties 0.0\n",
      "away_defenders_crossing 0.0\n",
      "away_strikers_jumping 0.0\n",
      "away_defenders_defensive_work_rate 0.0\n",
      "away_defenders_attacking_work_rate 0.0\n",
      "away_defenders_potential 0.0\n",
      "away_goal_keeper_gk_reflexes 0.0\n",
      "away_strikers_marking 0.0\n",
      "away_goal_keeper_gk_kicking 0.0\n",
      "away_defenders_long_passing 0.0\n",
      "away_defenders_acceleration 0.0\n",
      "away_defenders_sprint_speed 0.0\n",
      "away_defenders_long_shots 0.0\n",
      "away_strikers_strength 0.0\n",
      "away_defenders_marking 0.0\n",
      "away_defenders_penalties 0.0\n",
      "away_strikers_long_shots 0.0\n",
      "away_defenders_positioning 0.0\n",
      "away_strikers_aggression 0.0\n",
      "away_defenders_aggression 0.0\n",
      "away_defenders_strength 0.0\n",
      "away_defenders_stamina 0.0\n",
      "away_defenders_shot_power 0.0\n",
      "away_defenders_balance 0.0\n",
      "away_strikers_interceptions 0.0\n",
      "away_defenders_agility 0.0\n",
      "away_strikers_volleys 0.0\n",
      "away_strikers_positioning -3.21004358307e-05\n",
      "away_defenders_jumping -0.0039034048958\n",
      "away_midfielders_positioning -0.0046232107572\n",
      "away_goal_keeper_gk_diving -0.00579976122021\n",
      "away_strikers_shot_power -0.0065872842111\n",
      "away_strikers_reactions -0.00697744262656\n",
      "away_midfielders_vision -0.0135628411858\n",
      "away_strikers_vision -0.0194651955834\n",
      "away_strikers_stamina -0.0200177421663\n",
      "away_defenders_interceptions -0.0260519812119\n",
      "away_strikers_dribbling -0.0289562315882\n",
      "away_strikers_short_passing -0.0303025658404\n",
      "away_defenders_vision -0.0311133066638\n",
      "away_midfielders_finishing -0.0338479858131\n",
      "away_defenders_sliding_tackle -0.0353097250856\n",
      "away_defenders_reactions -0.0488412050102\n",
      "away_defenders_heading_accuracy -0.0548734273757\n",
      "away_defenders_ball_control -0.0569336200237\n",
      "away_goal_keeper_gk_positioning -0.0664038511261\n",
      "away_strikers_potential -0.0680279051646\n",
      "away_midfielders_reactions -0.102669774781\n",
      "away_midfielders_short_passing -0.119492108652\n",
      "away_midfielders_potential -0.13565993818\n",
      "away_midfielders_ball_control -0.145330164382\n",
      "away_defenders_standing_tackle -0.17647939056\n"
     ]
    }
   ],
   "source": [
    "best_features = np.argsort(log.coef_).reshape(196)[::-1].reshape(196)\n",
    "print len(features_list)\n",
    "for idx in  best_features:\n",
    "    print features_list[idx],log.coef_.reshape(196)[idx]\n"
   ]
  },
  {
   "cell_type": "code",
   "execution_count": 21,
   "metadata": {
    "collapsed": false
   },
   "outputs": [
    {
     "name": "stdout",
     "output_type": "stream",
     "text": [
      "196\n",
      "defenders_standing_tackle 0.0629893133868\n",
      "midfielders_reactions 0.0546074061859\n",
      "defenders_interceptions 0.0391359159976\n",
      "midfielders_short_passing 0.0297576416435\n",
      "midfielders_ball_control 0.0296218212361\n",
      "goal_keeper_gk_kicking 0.0289718279484\n",
      "defenders_long_passing 0.0226360989351\n",
      "strikers_positioning 0.0200498856853\n",
      "defenders_marking 0.0187772690256\n",
      "strikers_vision 0.0183092594634\n",
      "midfielders_penalties 0.0177185982568\n",
      "defenders_short_passing 0.0153934982196\n",
      "defenders_sliding_tackle 0.0149255846243\n",
      "midfielders_positioning 0.0143877292249\n",
      "defenders_heading_accuracy 0.0143280772094\n",
      "goal_keeper_gk_positioning 0.0140831938389\n",
      "defenders_finishing 0.0115664309423\n",
      "midfielders_vision 0.0111525288757\n",
      "defenders_vision 0.0110934655979\n",
      "goal_keeper_gk_diving 0.00920657335085\n",
      "strikers_jumping 0.00915946201661\n",
      "midfielders_curve 0.00854078868675\n",
      "goal_keeper_gk_handling 0.0083443346362\n",
      "midfielders_dribbling 0.00798457680113\n",
      "strikers_ball_control 0.00774804736345\n",
      "defenders_aggression 0.00664111167327\n",
      "strikers_reactions 0.00604567563243\n",
      "midfielders_interceptions 0.00419593768977\n",
      "defenders_strength 0.0033354790462\n",
      "strikers_volleys 0.0032252007289\n",
      "strikers_short_passing 0.00319876764341\n",
      "defenders_long_shots 0.00308668233007\n",
      "midfielders_crossing 0.00193119260391\n",
      "midfielders_marking 0.0\n",
      "strikers_curve 0.0\n",
      "defenders_potential 0.0\n",
      "strikers_dribbling 0.0\n",
      "strikers_heading_accuracy 0.0\n",
      "strikers_finishing 0.0\n",
      "midfielders_standing_tackle 0.0\n",
      "strikers_crossing 0.0\n",
      "midfielders_sliding_tackle 0.0\n",
      "strikers_attacking_work_rate 0.0\n",
      "strikers_potential 0.0\n",
      "strikers_defensive_work_rate 0.0\n",
      "defenders_sprint_speed 0.0\n",
      "strikers_free_kick_accuracy 0.0\n",
      "strikers_long_passing 0.0\n",
      "defenders_attacking_work_rate 0.0\n",
      "strikers_sprint_speed 0.0\n",
      "strikers_agility 0.0\n",
      "strikers_balance 0.0\n",
      "strikers_shot_power 0.0\n",
      "strikers_stamina 0.0\n",
      "strikers_strength 0.0\n",
      "strikers_long_shots 0.0\n",
      "strikers_aggression 0.0\n",
      "strikers_interceptions 0.0\n",
      "goal_keeper_gk_reflexes 0.0\n",
      "strikers_penalties 0.0\n",
      "strikers_marking 0.0\n",
      "strikers_acceleration 0.0\n",
      "midfielders_long_shots 0.0\n",
      "defenders_defensive_work_rate 0.0\n",
      "defenders_ball_control 0.0\n",
      "midfielders_attacking_work_rate 0.0\n",
      "midfielders_potential 0.0\n",
      "defenders_dribbling 0.0\n",
      "defenders_curve 0.0\n",
      "defenders_free_kick_accuracy 0.0\n",
      "defenders_penalties 0.0\n",
      "defenders_positioning 0.0\n",
      "midfielders_finishing 0.0\n",
      "defenders_acceleration 0.0\n",
      "defenders_stamina 0.0\n",
      "defenders_jumping 0.0\n",
      "defenders_shot_power 0.0\n",
      "defenders_balance 0.0\n",
      "defenders_reactions 0.0\n",
      "midfielders_defensive_work_rate 0.0\n",
      "midfielders_heading_accuracy 0.0\n",
      "midfielders_aggression 0.0\n",
      "defenders_crossing 0.0\n",
      "defenders_agility 0.0\n",
      "midfielders_strength 0.0\n",
      "midfielders_stamina 0.0\n",
      "midfielders_jumping 0.0\n",
      "midfielders_shot_power 0.0\n",
      "midfielders_balance 0.0\n",
      "midfielders_agility 0.0\n",
      "defenders_volleys 0.0\n",
      "midfielders_sprint_speed 0.0\n",
      "midfielders_acceleration 0.0\n",
      "away_strikers_standing_tackle 0.0\n",
      "midfielders_long_passing 0.0\n",
      "midfielders_free_kick_accuracy 0.0\n",
      "midfielders_volleys 0.0\n",
      "strikers_standing_tackle 0.0\n",
      "away_strikers_sliding_tackle 0.0\n",
      "strikers_sliding_tackle 0.0\n",
      "away_midfielders_jumping 0.0\n",
      "away_midfielders_balance 0.0\n",
      "away_strikers_acceleration 0.0\n",
      "away_midfielders_agility 0.0\n",
      "away_midfielders_sprint_speed 0.0\n",
      "away_midfielders_acceleration 0.0\n",
      "away_goal_keeper_gk_handling 0.0\n",
      "away_midfielders_long_passing 0.0\n",
      "away_midfielders_free_kick_accuracy 0.0\n",
      "away_midfielders_curve 0.0\n",
      "away_midfielders_dribbling 0.0\n",
      "away_midfielders_volleys 0.0\n",
      "away_strikers_sprint_speed 0.0\n",
      "away_midfielders_heading_accuracy 0.0\n",
      "away_strikers_agility 0.0\n",
      "away_midfielders_crossing 0.0\n",
      "away_midfielders_shot_power 0.0\n",
      "away_midfielders_stamina 0.0\n",
      "away_strikers_curve 0.0\n",
      "away_midfielders_strength 0.0\n",
      "away_strikers_free_kick_accuracy 0.0\n",
      "away_strikers_heading_accuracy 0.0\n",
      "away_strikers_finishing 0.0\n",
      "away_strikers_crossing 0.0\n",
      "away_strikers_defensive_work_rate 0.0\n",
      "away_strikers_attacking_work_rate 0.0\n",
      "away_strikers_long_passing 0.0\n",
      "away_midfielders_sliding_tackle 0.0\n",
      "away_midfielders_standing_tackle 0.0\n",
      "away_midfielders_marking 0.0\n",
      "away_midfielders_penalties 0.0\n",
      "away_strikers_ball_control 0.0\n",
      "away_midfielders_interceptions 0.0\n",
      "away_midfielders_aggression 0.0\n",
      "away_midfielders_long_shots 0.0\n",
      "away_midfielders_defensive_work_rate 0.0\n",
      "away_midfielders_attacking_work_rate 0.0\n",
      "away_strikers_balance 0.0\n",
      "away_defenders_finishing 0.0\n",
      "away_defenders_free_kick_accuracy 0.0\n",
      "away_defenders_curve 0.0\n",
      "away_defenders_dribbling 0.0\n",
      "away_defenders_volleys 0.0\n",
      "away_defenders_short_passing 0.0\n",
      "away_strikers_penalties 0.0\n",
      "away_defenders_crossing 0.0\n",
      "away_strikers_jumping 0.0\n",
      "away_defenders_defensive_work_rate 0.0\n",
      "away_defenders_attacking_work_rate 0.0\n",
      "away_defenders_potential 0.0\n",
      "away_goal_keeper_gk_reflexes 0.0\n",
      "away_strikers_marking 0.0\n",
      "away_goal_keeper_gk_kicking 0.0\n",
      "away_defenders_long_passing 0.0\n",
      "away_defenders_acceleration 0.0\n",
      "away_defenders_sprint_speed 0.0\n",
      "away_defenders_long_shots 0.0\n",
      "away_strikers_strength 0.0\n",
      "away_defenders_marking 0.0\n",
      "away_defenders_penalties 0.0\n",
      "away_strikers_long_shots 0.0\n",
      "away_defenders_positioning 0.0\n",
      "away_strikers_aggression 0.0\n",
      "away_defenders_aggression 0.0\n",
      "away_defenders_strength 0.0\n",
      "away_defenders_stamina 0.0\n",
      "away_defenders_shot_power 0.0\n",
      "away_defenders_balance 0.0\n",
      "away_strikers_interceptions 0.0\n",
      "away_defenders_agility 0.0\n",
      "away_strikers_volleys 0.0\n",
      "away_strikers_positioning -1.20991433938e-05\n",
      "away_defenders_jumping -0.00147125278321\n",
      "away_midfielders_positioning -0.00174255858038\n",
      "away_goal_keeper_gk_diving -0.00218601837754\n",
      "away_strikers_shot_power -0.00248284779265\n",
      "away_strikers_reactions -0.00262990444446\n",
      "away_midfielders_vision -0.00511204150621\n",
      "away_strikers_vision -0.00733672881556\n",
      "away_strikers_stamina -0.00754499204206\n",
      "away_defenders_interceptions -0.00981938868483\n",
      "away_strikers_dribbling -0.010914044905\n",
      "away_strikers_short_passing -0.0114214987994\n",
      "away_defenders_vision -0.0117270793694\n",
      "away_midfielders_finishing -0.0127578216103\n",
      "away_defenders_sliding_tackle -0.0133087734153\n",
      "away_defenders_reactions -0.0184089943843\n",
      "away_defenders_heading_accuracy -0.0206826309096\n",
      "away_defenders_ball_control -0.0214591489108\n",
      "away_goal_keeper_gk_positioning -0.0250286233156\n",
      "away_strikers_potential -0.0256407540291\n",
      "away_midfielders_reactions -0.0386978025416\n",
      "away_midfielders_short_passing -0.0450383965074\n",
      "away_midfielders_potential -0.0511322978132\n",
      "away_midfielders_ball_control -0.0547771534184\n",
      "away_defenders_standing_tackle -0.0665177713998\n"
     ]
    }
   ],
   "source": [
    "coef = log.coef_/np.sum(np.abs(log.coef_),axis=1)\n",
    "best_features = np.argsort(coef).reshape(196)[::-1].reshape(196)\n",
    "print len(features_list)\n",
    "for idx in  best_features:\n",
    "    print features_list[idx],coef.reshape(196)[idx]"
   ]
  },
  {
   "cell_type": "code",
   "execution_count": null,
   "metadata": {
    "collapsed": false
   },
   "outputs": [],
   "source": [
    "plt.plot()"
   ]
  }
 ],
 "metadata": {
  "anaconda-cloud": {},
  "kernelspec": {
   "display_name": "Python [default]",
   "language": "python",
   "name": "python2"
  },
  "language_info": {
   "codemirror_mode": {
    "name": "ipython",
    "version": 2
   },
   "file_extension": ".py",
   "mimetype": "text/x-python",
   "name": "python",
   "nbconvert_exporter": "python",
   "pygments_lexer": "ipython2",
   "version": "2.7.12"
  }
 },
 "nbformat": 4,
 "nbformat_minor": 1
}
